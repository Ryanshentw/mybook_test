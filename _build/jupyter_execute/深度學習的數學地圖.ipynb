{
 "cells": [
  {
   "cell_type": "markdown",
   "metadata": {},
   "source": [
    "# p7-19\n",
    "## Boston, regression "
   ]
  },
  {
   "cell_type": "code",
   "execution_count": 7,
   "metadata": {},
   "outputs": [
    {
     "name": "stdout",
     "output_type": "stream",
     "text": [
      "(506, 13) (506,)\n",
      "['CRIM' 'ZN' 'INDUS' 'CHAS' 'NOX' 'RM' 'AGE' 'DIS' 'RAD' 'TAX' 'PTRATIO'\n",
      " 'B' 'LSTAT']\n",
      "[[1.0000e+00 6.3200e-03 1.8000e+01 2.3100e+00 0.0000e+00 5.3800e-01\n",
      "  6.5750e+00 6.5200e+01 4.0900e+00 1.0000e+00 2.9600e+02 1.5300e+01\n",
      "  3.9690e+02 4.9800e+00]\n",
      " [1.0000e+00 2.7310e-02 0.0000e+00 7.0700e+00 0.0000e+00 4.6900e-01\n",
      "  6.4210e+00 7.8900e+01 4.9671e+00 2.0000e+00 2.4200e+02 1.7800e+01\n",
      "  3.9690e+02 9.1400e+00]\n",
      " [1.0000e+00 2.7290e-02 0.0000e+00 7.0700e+00 0.0000e+00 4.6900e-01\n",
      "  7.1850e+00 6.1100e+01 4.9671e+00 2.0000e+00 2.4200e+02 1.7800e+01\n",
      "  3.9283e+02 4.0300e+00]\n",
      " [1.0000e+00 3.2370e-02 0.0000e+00 2.1800e+00 0.0000e+00 4.5800e-01\n",
      "  6.9980e+00 4.5800e+01 6.0622e+00 3.0000e+00 2.2200e+02 1.8700e+01\n",
      "  3.9463e+02 2.9400e+00]\n",
      " [1.0000e+00 6.9050e-02 0.0000e+00 2.1800e+00 0.0000e+00 4.5800e-01\n",
      "  7.1470e+00 5.4200e+01 6.0622e+00 3.0000e+00 2.2200e+02 1.8700e+01\n",
      "  3.9690e+02 5.3300e+00]\n",
      " [1.0000e+00 2.9850e-02 0.0000e+00 2.1800e+00 0.0000e+00 4.5800e-01\n",
      "  6.4300e+00 5.8700e+01 6.0622e+00 3.0000e+00 2.2200e+02 1.8700e+01\n",
      "  3.9412e+02 5.2100e+00]\n",
      " [1.0000e+00 8.8290e-02 1.2500e+01 7.8700e+00 0.0000e+00 5.2400e-01\n",
      "  6.0120e+00 6.6600e+01 5.5605e+00 5.0000e+00 3.1100e+02 1.5200e+01\n",
      "  3.9560e+02 1.2430e+01]\n",
      " [1.0000e+00 1.4455e-01 1.2500e+01 7.8700e+00 0.0000e+00 5.2400e-01\n",
      "  6.1720e+00 9.6100e+01 5.9505e+00 5.0000e+00 3.1100e+02 1.5200e+01\n",
      "  3.9690e+02 1.9150e+01]\n",
      " [1.0000e+00 2.1124e-01 1.2500e+01 7.8700e+00 0.0000e+00 5.2400e-01\n",
      "  5.6310e+00 1.0000e+02 6.0821e+00 5.0000e+00 3.1100e+02 1.5200e+01\n",
      "  3.8663e+02 2.9930e+01]\n",
      " [1.0000e+00 1.7004e-01 1.2500e+01 7.8700e+00 0.0000e+00 5.2400e-01\n",
      "  6.0040e+00 8.5900e+01 6.5921e+00 5.0000e+00 3.1100e+02 1.5200e+01\n",
      "  3.8671e+02 1.7100e+01]]\n",
      "(506, 14)\n"
     ]
    }
   ],
   "source": [
    "from sklearn import datasets \n",
    "import numpy as np\n",
    "import matplotlib.pyplot as plt\n",
    "\n",
    "boston=datasets.load_boston()\n",
    "X_org, yt=boston.data, boston.target\n",
    "feature_names=boston.feature_names\n",
    "print(X_org.shape, yt.shape)\n",
    "print(feature_names)\n",
    "\n",
    "X_data=X_org[:, feature_names=='RM']\n",
    "X=np.insert(X_org, 0, 1.0, axis=1)\n",
    "print(X[:10])\n",
    "print(X.shape)"
   ]
  }
 ],
 "metadata": {
  "kernelspec": {
   "display_name": "Python 3",
   "language": "python",
   "name": "python3"
  },
  "language_info": {
   "codemirror_mode": {
    "name": "ipython",
    "version": 3
   },
   "file_extension": ".py",
   "mimetype": "text/x-python",
   "name": "python",
   "nbconvert_exporter": "python",
   "pygments_lexer": "ipython3",
   "version": "3.8.3"
  }
 },
 "nbformat": 4,
 "nbformat_minor": 4
}