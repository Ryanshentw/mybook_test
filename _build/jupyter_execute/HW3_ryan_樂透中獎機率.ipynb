{
 "cells": [
  {
   "cell_type": "markdown",
   "metadata": {},
   "source": [
    "# 今彩539中獎機率"
   ]
  },
  {
   "cell_type": "markdown",
   "metadata": {},
   "source": [
    "```\n",
    "## 今彩539玩法\n",
    "- 從1~39中隨機取出不重複的5個號碼,作為中獎號碼(ie. 五星), 猜中兩星(含)以上才算中獎,一注 50 元(單位) \n",
    "    - 頭獎 = 五星, 獎金 8,000,000 元\n",
    "    - 二獎 = 四星, 獎金 20,000 元\n",
    "    - 三獎 = 三星, 獎金 300 元\n",
    "    - 四獎 = 兩星, 獎金 50 元\n",
    "    - 沒有獎= 其他, 獎金 0 元\n",
    "\n",
    "\n",
    "**求出中獎組合與機率(含未中獎) ?**\n",
    "\n",
    "\n",
    "## 計算今彩539平均報酬率\n",
    "- **每注平均中獎金額 ?**\n",
    "- **報酬率 ?** (= (每注平均中獎金額-每注下注金額) /每注下注金額)\n",
    "```"
   ]
  },
  {
   "cell_type": "code",
   "execution_count": 13,
   "metadata": {},
   "outputs": [
    {
     "name": "stdout",
     "output_type": "stream",
     "text": [
      "***** 中獎組合與機率(含未中獎) *****\n",
      "\n",
      "        組合數      機率(%)  獎金(NTD)\n",
      "頭獎        1   0.000174  8000000\n",
      "二獎      170   0.029526    20000\n",
      "三獎     5610   0.974369      300\n",
      "四獎    59840  10.393274       50\n",
      "沒有獎  510136  88.602657        0\n",
      "\n",
      "****************************************\n",
      "總中獎機率約\t 11.397 %\n",
      "每注平均中獎金額\t 27.920 元\n",
      "報酬率\t\t -44.160 %\n"
     ]
    }
   ],
   "source": [
    "import pandas as pd\n",
    "import scipy.special as sps\n",
    "import numpy as np\n",
    "\n",
    "def win_comb(x):  # 對中了幾星(x)之組合\n",
    "    result=sps.comb(stars,x)*sps.comb(N-stars, stars-x)\n",
    "    if x<2:\n",
    "        lose_comb = all_comb-sum([win_comb(i) for i in range(2,6)])\n",
    "        return int(lose_comb)\n",
    "    return int(result)\n",
    "\n",
    "# -------- given ----------------\n",
    "N, stars = 39, 5\n",
    "bat = 50                                                     # 每注下注金額(單位)\n",
    "Bouns=np.array([8000000, 20000, 300, 50, 0])                 # 個別中獎之獎金\n",
    "index_prize = ['頭獎', '二獎', '三獎', '四獎', '沒有獎']      # 個別中獎之獎項\n",
    "# ---------------------------------\n",
    "all_comb = int(sps.comb(N, stars))                          # 所有可能組合之樣本空間\n",
    "each_comb = np.array([win_comb(x) for x in range(5,0,-1)])  # 個別中獎之組合, 包含沒中獎\n",
    "each_prob = each_comb/all_comb                              # 個別中獎之機率, 包含沒中獎\n",
    "df = pd.DataFrame({'組合數':each_comb, '機率(%)':each_prob*100,'獎金(NTD)':Bouns},\n",
    "                  index = index_prize)\n",
    "print(f'***** 中獎組合與機率(含未中獎) *****\\n\\n{df}\\n')\n",
    "\n",
    "onlyWin=sum(df['機率(%)'].head(4))\n",
    "print(\"*\"*40)\n",
    "print(f'總中獎機率約\\t {onlyWin:.3f} %')\n",
    "excepted_value = each_prob@Bouns                            #每注平均中獎金額\n",
    "print(f'每注平均中獎金額\\t {excepted_value:.3f} 元')\n",
    "ROI= (excepted_value - bat)/bat * 100\n",
    "print(f'報酬率\\t\\t {ROI:.3f} %')"
   ]
  },
  {
   "cell_type": "markdown",
   "metadata": {},
   "source": [
    "# 假設檢定\n",
    "- 美國總統的身高近40年(10屆)是否有比較高?\n",
    "- Data：president_heights.csv"
   ]
  },
  {
   "cell_type": "code",
   "execution_count": 17,
   "metadata": {},
   "outputs": [
    {
     "name": "stdout",
     "output_type": "stream",
     "text": [
      "美國總統近10屆之樣本平均身高(cm): 184.6\n",
      "美國總統前34屆之樣本平均身高(cm): 178.2\n",
      "==================================================\n",
      "u1 = 美國總統近10屆之母體平均身高\n",
      "u2 = 美國總統前34屆之母體平均身高 \n",
      "-- 虛無假設 H0: u1-u2<=0\n",
      "-- 對立假設 H1: u1-u2> 0\n",
      "==================================================\n",
      "t-statistic: 3.43894\n",
      "p-value: 0.00103\n"
     ]
    },
    {
     "data": {
      "image/png": "[encoded data removed]",
      "text/plain": [
       "<Figure size 432x288 with 1 Axes>"
      ]
     },
     "metadata": {
      "filenames": {
       "image/png": "C:\\Users\\RyanShen\\jupyterbook\\mybook_test\\_build\\jupyter_execute\\HW3_ryan_樂透中獎機率_4_1.png"
      },
      "needs_background": "light"
     },
     "output_type": "display_data"
    },
    {
     "name": "stdout",
     "output_type": "stream",
     "text": [
      "因為 p-value < 0.05, 表示有顯著差異, 因此拒絕虛無假設H0, 則對立假設為真,\n",
      "換句話說, 美國總統的身高近40年(10屆)是有比較高\n"
     ]
    }
   ],
   "source": [
    "import pandas as pd\n",
    "import numpy as np\n",
    "import matplotlib.pyplot as plt\n",
    "from scipy import stats\n",
    "\n",
    "df  = pd.read_csv('./president_heights.csv')\n",
    "df1 = df.tail(10)['height(cm)']  # 後10屆\n",
    "df2 = df.head(len(df)-10)['height(cm)']  # 前34屆\n",
    "print(f'美國總統近10屆之樣本平均身高(cm): {df1.mean():.1f}')\n",
    "print(f'美國總統前34屆之樣本平均身高(cm): {df2.mean():.1f}')\n",
    "print(\"=\"*50)\n",
    "\n",
    "# 兩個母體平均數差之假設檢定- 獨立樣本 t檢定, 右尾, p值法, 顯著水準 alpha=0.05\n",
    "print(\"u1 = 美國總統近10屆之母體平均身高\\nu2 = 美國總統前34屆之母體平均身高 \")\n",
    "print(\"-- 虛無假設 H0: u1-u2<=0\")\n",
    "print(\"-- 對立假設 H1: u1-u2> 0\")\n",
    "print(\"=\"*50)   \n",
    "\n",
    "# Independent T-Test本身只支援雙尾輸出\n",
    "t,p = stats.ttest_ind(df1, df2, equal_var = False)  #各別樣本數,樣本平均數,樣本標準差皆不同\n",
    "p1 = p/2    #雙尾產生之p值原是單尾值p之兩倍,須將p值除以2之後,才是真正單尾所需之p值\n",
    "print(f't-statistic: {t:.5f}')\n",
    "print(f'p-value: {p1:.5f}')\n",
    "\n",
    "pop = np.random.normal(df2.mean(), df2.std(), 100000)\n",
    "# calculate a 90% confidence interval. 10% of the probability is outside this, 5% in each tail\n",
    "ci = stats.norm.interval(0.90, df2.mean(), df2.std())\n",
    "plt.hist(pop, bins=100)\n",
    "# show the hypothesized population mean\n",
    "plt.axvline(pop.mean(), color='yellow', linestyle='dashed', linewidth=2)\n",
    "# show the right-tail confidence interval threshold - 5% of propbability is under the curve to the right of this.\n",
    "plt.axvline(ci[1], color='red', linestyle='dashed', linewidth=2)\n",
    "# show the t-statistic - the p-value is the area under the curve to the right of this\n",
    "plt.axvline(pop.mean() + t*pop.std(), color='magenta', linestyle='dashed', linewidth=2)\n",
    "plt.show()\n",
    "print(\"\"\"因為 p-value < 0.05, 表示有顯著差異, 因此拒絕虛無假設H0, 則對立假設為真,\n",
    "換句話說, 美國總統的身高近40年(10屆)是有比較高\"\"\")"
   ]
  }
 ],
 "metadata": {
  "kernelspec": {
   "display_name": "Python 3",
   "language": "python",
   "name": "python3"
  },
  "language_info": {
   "codemirror_mode": {
    "name": "ipython",
    "version": 3
   },
   "file_extension": ".py",
   "mimetype": "text/x-python",
   "name": "python",
   "nbconvert_exporter": "python",
   "pygments_lexer": "ipython3",
   "version": "3.8.3"
  }
 },
 "nbformat": 4,
 "nbformat_minor": 4
}